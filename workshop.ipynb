{
 "cells": [
  {
   "cell_type": "code",
   "execution_count": 178,
   "id": "a7d94934-864b-47aa-89b2-d621174f186c",
   "metadata": {},
   "outputs": [
    {
     "name": "stdout",
     "output_type": "stream",
     "text": [
      "city_name:koppa\n"
     ]
    }
   ],
   "source": [
    "city_name='koppa'\n",
    "print(f'city_name:{city_name}')"
   ]
  },
  {
   "cell_type": "code",
   "execution_count": 179,
   "id": "4bc93d32-5ea8-48b7-b2cd-4b247f91a474",
   "metadata": {},
   "outputs": [
    {
     "name": "stdout",
     "output_type": "stream",
     "text": [
      "temperature:25\n"
     ]
    }
   ],
   "source": [
    "temperature=25\n",
    "print(f'temperature:{temperature}')"
   ]
  },
  {
   "cell_type": "code",
   "execution_count": 180,
   "id": "e315902a-9c82-46a1-9652-ff6a8a74a4ca",
   "metadata": {},
   "outputs": [
    {
     "name": "stdout",
     "output_type": "stream",
     "text": [
      "carbon_footprint:500.75kf co2\n"
     ]
    }
   ],
   "source": [
    "carbon_footprint=500.75\n",
    "print(f'carbon_footprint:{carbon_footprint}kf co2')"
   ]
  },
  {
   "cell_type": "code",
   "execution_count": 181,
   "id": "b63a4462-2756-4825-b38b-c37e8d6917bd",
   "metadata": {},
   "outputs": [
    {
     "name": "stdout",
     "output_type": "stream",
     "text": [
      "is the city sustainable :False\n"
     ]
    }
   ],
   "source": [
    "is_sustainable=carbon_footprint < 400\n",
    "print(f\"is the city sustainable :{is_sustainable}\")"
   ]
  },
  {
   "cell_type": "code",
   "execution_count": 182,
   "id": "aaffda39-8d6b-4c43-959b-f3c1904c9441",
   "metadata": {},
   "outputs": [
    {
     "name": "stdout",
     "output_type": "stream",
     "text": [
      "weekly temperature:[25, 27, 28, 26, 24, 30, 29]\n"
     ]
    }
   ],
   "source": [
    "weekly_temperature=[25,27,28,26,24,30,29]\n",
    "print(f'weekly temperature:{weekly_temperature}')"
   ]
  },
  {
   "cell_type": "code",
   "execution_count": 183,
   "id": "4f15e51b-1af7-4a33-a474-cf7577dfb152",
   "metadata": {},
   "outputs": [],
   "source": [
    "climate_data =[\n",
    "    {\"city\": 'CityA',\"temperature\":25,\"carbon_footprint\":500},\n",
    "    {\"city\":\"CityB\",\"temperature\":30,\"carbon_footprint\":350},\n",
    "    {\"city\":\"CityC\",\"temperature\":22,\"carbon_footprint\":600},\n",
    "    {\"city\":\"CityD\",\"temperature\":13,\"carbon_footprint\":200},\n",
    "    {\"city\":\"CityE\",\"temperature\":28,\"carbon_footprint\":450},\n",
    "]\n"
   ]
  },
  {
   "cell_type": "code",
   "execution_count": 184,
   "id": "9a8031bc-6f15-4f30-82c7-d640f36f4bfa",
   "metadata": {},
   "outputs": [
    {
     "name": "stdout",
     "output_type": "stream",
     "text": [
      "cityes with high temprature(>26):\n",
      "CityB-30\n",
      "CityE-28\n",
      "\n",
      " average carbon footprint : 420.00kg co2\n"
     ]
    }
   ],
   "source": [
    "high_temp_threshold=26\n",
    "high_temp_cities=(city for city in climate_data if city['temperature']>high_temp_threshold)\n",
    "print(\"cityes with high temprature(>26):\")\n",
    "for city in high_temp_cities:\n",
    "    print(f\"{city['city']}-{city['temperature']}\")\n",
    "    total_carbon=0\n",
    "\n",
    "for city in climate_data:\n",
    "    total_carbon += city['carbon_footprint']\n",
    "\n",
    "Average_carbon_footprint=total_carbon / len(climate_data)\n",
    "print(f\"\\n average carbon footprint : {Average_carbon_footprint:.2f}kg co2\")"
   ]
  },
  {
   "cell_type": "code",
   "execution_count": 185,
   "id": "0d81c0d4-03be-4538-a991-93cdd3d688b8",
   "metadata": {},
   "outputs": [
    {
     "name": "stdout",
     "output_type": "stream",
     "text": [
      "\n",
      " sustainable cities from carbon footprint < 400 kg co2):\n",
      "CityB - 350kg co2\n",
      "CityD - 200kg co2\n"
     ]
    }
   ],
   "source": [
    "sustainability_threshold=400\n",
    "sustainable_cities= list(filter(lambda city:city['carbon_footprint'] < sustainability_threshold ,climate_data))\n",
    "\n",
    "print(\"\\n sustainable cities from carbon footprint < 400 kg co2):\")\n",
    "for city in sustainable_cities:\n",
    "    print(f\"{city['city']} - {city['carbon_footprint']}kg co2\")"
   ]
  },
  {
   "cell_type": "code",
   "execution_count": 186,
   "id": "2ea4c560-9462-4082-84c7-8d1ed831b1c8",
   "metadata": {},
   "outputs": [],
   "source": [
    "def calculate_carbon_footprint(Energy_consumption,emision_factor):\n",
    "    return Energy_consumption * emision_factor\n"
   ]
  },
  {
   "cell_type": "code",
   "execution_count": 187,
   "id": "a03d5a92-0378-4dc5-91bb-9c6e79a4db9a",
   "metadata": {},
   "outputs": [
    {
     "name": "stdout",
     "output_type": "stream",
     "text": [
      "carbon footprint: 475.0 kg co2\n"
     ]
    }
   ],
   "source": [
    "Energy_consumption=1000\n",
    "emision_factor=0.475\n",
    "\n",
    "carbon_footprint=calculate_carbon_footprint(Energy_consumption,emision_factor)\n",
    "print(f\"carbon footprint: {carbon_footprint} kg co2\")\n"
   ]
  },
  {
   "cell_type": "raw",
   "id": "b93fbbd9-d75b-4751-b937-581efd873a0e",
   "metadata": {},
   "source": [
    "Lambda Function"
   ]
  },
  {
   "cell_type": "code",
   "execution_count": 188,
   "id": "34bf6d01-727b-4256-bf24-90e748c9305c",
   "metadata": {},
   "outputs": [
    {
     "name": "stdout",
     "output_type": "stream",
     "text": [
      "Sustainable cities:\n",
      "City_B\n",
      "City_D\n"
     ]
    }
   ],
   "source": [
    "cities =[\n",
    "    {\"Name\": \"City_A\",\"carbon_footprint\": 500},\n",
    "    {\"Name\": \"City_B\",\"carbon_footprint\": 350},\n",
    "    {\"Name\": \"City_C\",\"carbon_footprint\": 600},\n",
    "    {\"Name\": \"City_D\",\"carbon_footprint\": 200},\n",
    "]\n",
    "sustainability_threshold =400\n",
    "sustainable_cities=list(filter(lambda city:city['carbon_footprint'] < sustainability_threshold,cities))\n",
    "\n",
    "print(f\"Sustainable cities:\")\n",
    "for city in sustainable_cities:\n",
    "    print(city[\"Name\"])\n",
    "                               \n",
    "                               \n"
   ]
  },
  {
   "cell_type": "raw",
   "id": "74c54846-0c31-4f0a-bd58-7688dbeb2fdc",
   "metadata": {},
   "source": [
    "OOps\n"
   ]
  },
  {
   "cell_type": "code",
   "execution_count": 189,
   "id": "ad1470f8-5285-464d-84ed-690dba30e6c8",
   "metadata": {},
   "outputs": [],
   "source": [
    "#simple Class\n",
    "class Person:\n",
    "    pass"
   ]
  },
  {
   "cell_type": "code",
   "execution_count": 190,
   "id": "674fa624-e462-42da-bd13-b947e896e60d",
   "metadata": {},
   "outputs": [],
   "source": [
    "class Person:\n",
    "    def __init__(self, name, age):\n",
    "        self.name=name\n",
    "        self.age=age"
   ]
  },
  {
   "cell_type": "code",
   "execution_count": 191,
   "id": "db2341b2-06d6-4848-8541-0607a3defb71",
   "metadata": {},
   "outputs": [],
   "source": [
    "person = Person(\"Bharat\",10000)"
   ]
  },
  {
   "cell_type": "code",
   "execution_count": 192,
   "id": "1840b9d3-b546-4657-a28d-588cf502acec",
   "metadata": {},
   "outputs": [
    {
     "name": "stdout",
     "output_type": "stream",
     "text": [
      "Bharat\n",
      "10000\n"
     ]
    }
   ],
   "source": [
    "print(person.name)\n",
    "print(person.age)"
   ]
  },
  {
   "cell_type": "code",
   "execution_count": 193,
   "id": "b037f676-79cb-4b5b-b234-2d64aaee3f8b",
   "metadata": {},
   "outputs": [],
   "source": [
    "class Car:\n",
    "    wheels=4 #class attriute\n",
    "    def __init__(self,make,year):\n",
    "        self.make=make\n",
    "        self.year=year\n",
    "\n",
    "    def start_engine(self):  #instance method\n",
    "        print('Engine Started : ')\n",
    "\n",
    "    @classmethod\n",
    "    def get_wheels(cls):\n",
    "        return cls.wheels\n",
    "\n",
    "    @staticmethod\n",
    "    def is_motor_vehicle():\n",
    "        return True\n",
    "\n",
    "car=Car(\"Toyota\",2022)\n",
    "        "
   ]
  },
  {
   "cell_type": "code",
   "execution_count": 194,
   "id": "ce1c9269-22c7-4355-8d8c-faca35a541e7",
   "metadata": {},
   "outputs": [
    {
     "name": "stdout",
     "output_type": "stream",
     "text": [
      "Toyota\n",
      "2022\n"
     ]
    }
   ],
   "source": [
    "print(car.make)\n",
    "print(car.year)\n"
   ]
  },
  {
   "cell_type": "code",
   "execution_count": 195,
   "id": "42abd199-1644-4a18-907f-5be77ddf9480",
   "metadata": {},
   "outputs": [
    {
     "name": "stdout",
     "output_type": "stream",
     "text": [
      "Engine Started : \n"
     ]
    }
   ],
   "source": [
    "car.start_engine()"
   ]
  },
  {
   "cell_type": "code",
   "execution_count": 196,
   "id": "bf983f17-e996-45de-90be-98e90b81c004",
   "metadata": {},
   "outputs": [
    {
     "data": {
      "text/plain": [
       "4"
      ]
     },
     "execution_count": 196,
     "metadata": {},
     "output_type": "execute_result"
    }
   ],
   "source": [
    "car.get_wheels()"
   ]
  },
  {
   "cell_type": "code",
   "execution_count": 197,
   "id": "2c81c5ac-1779-48cd-9510-a58f4e6b3d2a",
   "metadata": {},
   "outputs": [
    {
     "data": {
      "text/plain": [
       "True"
      ]
     },
     "execution_count": 197,
     "metadata": {},
     "output_type": "execute_result"
    }
   ],
   "source": [
    "car.is_motor_vehicle()"
   ]
  },
  {
   "cell_type": "code",
   "execution_count": 198,
   "id": "d8c07a40-73cd-4960-a9cd-60dcfeb54b1a",
   "metadata": {},
   "outputs": [],
   "source": [
    "class Person:\n",
    "    def __init__(self,name,age):\n",
    "        self.__name=name\n",
    "        self.__age=age\n",
    "\n",
    "    def get_name(self):\n",
    "        return self.__name"
   ]
  },
  {
   "cell_type": "code",
   "execution_count": 199,
   "id": "155c0eb6-0ab5-49f2-ae1a-11b895badf43",
   "metadata": {},
   "outputs": [],
   "source": [
    "person= Person(\"Kishan\",21)"
   ]
  },
  {
   "cell_type": "raw",
   "id": "318a7cc8-7380-4734-985b-fa7db2399cda",
   "metadata": {},
   "source": [
    "person.get_name()"
   ]
  },
  {
   "cell_type": "code",
   "execution_count": 200,
   "id": "ad72f7a0-120f-4b4e-8374-0c982561c75f",
   "metadata": {},
   "outputs": [],
   "source": [
    "class vehicle:\n",
    "    def __init__(self,brand,model):\n",
    "        self.brand=brand\n",
    "        self.model=model\n",
    "    def display_info(self):\n",
    "        return f\"{self.brand},{self.model}\"\n",
    "\n",
    "class car(vehicle):\n",
    "    def __init__(self,model,brand,doors):\n",
    "        super().__init__(brand,model)\n",
    "        self.doors=doors\n",
    "\n",
    "    def display_info(self):\n",
    "        return f\"{self.brand},{self.model},{self.doors}\""
   ]
  },
  {
   "cell_type": "code",
   "execution_count": 201,
   "id": "1915d828-a350-4174-8bba-a3734a884cc3",
   "metadata": {},
   "outputs": [
    {
     "data": {
      "text/plain": [
       "'nexon,tata,2'"
      ]
     },
     "execution_count": 201,
     "metadata": {},
     "output_type": "execute_result"
    }
   ],
   "source": [
    "my_car=car('tata','nexon',2)\n",
    "my_car.display_info()"
   ]
  },
  {
   "cell_type": "code",
   "execution_count": 202,
   "id": "d7c9910c-745c-412b-9d9c-1d553a70a6a0",
   "metadata": {},
   "outputs": [],
   "source": [
    "class Animal:\n",
    "    def make_sound(self):\n",
    "        print('Animal Makes sound')\n",
    "class Dog(Animal):\n",
    "    def make_sound(self):\n",
    "        print('Bark!!!...')"
   ]
  },
  {
   "cell_type": "code",
   "execution_count": 203,
   "id": "dd09df96-63ae-43a4-8395-746efd4f2462",
   "metadata": {},
   "outputs": [],
   "source": [
    "dog1= Dog()"
   ]
  },
  {
   "cell_type": "code",
   "execution_count": 204,
   "id": "4482e6f5-75e5-4d84-92f5-8c8968fc73cb",
   "metadata": {},
   "outputs": [
    {
     "name": "stdout",
     "output_type": "stream",
     "text": [
      "Bark!!!...\n"
     ]
    }
   ],
   "source": [
    "dog1.make_sound()"
   ]
  },
  {
   "cell_type": "raw",
   "id": "90d5b17a-6418-4b46-ab8b-f2bd5836f725",
   "metadata": {},
   "source": [
    "Method Overloading"
   ]
  },
  {
   "cell_type": "code",
   "execution_count": 205,
   "id": "92821b70-7f7a-4c79-9d22-4b6bc75077f8",
   "metadata": {},
   "outputs": [],
   "source": [
    "class Example:\n",
    "    def sum(self, *args):\n",
    "        return sum(args)"
   ]
  },
  {
   "cell_type": "code",
   "execution_count": 206,
   "id": "0adc463b-dd68-469e-a0fa-82d098d411df",
   "metadata": {},
   "outputs": [],
   "source": [
    "w = Example()"
   ]
  },
  {
   "cell_type": "code",
   "execution_count": 207,
   "id": "4bc50cd9-1451-4811-b3d5-7d31da794f90",
   "metadata": {},
   "outputs": [
    {
     "data": {
      "text/plain": [
       "5"
      ]
     },
     "execution_count": 207,
     "metadata": {},
     "output_type": "execute_result"
    }
   ],
   "source": [
    "w.sum(2,3)"
   ]
  },
  {
   "cell_type": "code",
   "execution_count": 208,
   "id": "28826453-ebf6-49a5-9e79-15291e8b5186",
   "metadata": {},
   "outputs": [
    {
     "data": {
      "text/plain": [
       "94477"
      ]
     },
     "execution_count": 208,
     "metadata": {},
     "output_type": "execute_result"
    }
   ],
   "source": [
    "w.sum(1,2,5,4,6,7,8,94444)"
   ]
  },
  {
   "cell_type": "raw",
   "id": "ab79527f-6ae7-4826-b82b-356d646d0055",
   "metadata": {},
   "source": [
    "Pandas "
   ]
  },
  {
   "cell_type": "code",
   "execution_count": 209,
   "id": "8ecdf150-3e04-4e6a-bdd4-9a7a7fe9d0d3",
   "metadata": {},
   "outputs": [
    {
     "data": {
      "text/plain": [
       "0         solor\n",
       "1          wind\n",
       "2         hydro\n",
       "3    geothermal\n",
       "4         tidal\n",
       "dtype: object"
      ]
     },
     "execution_count": 209,
     "metadata": {},
     "output_type": "execute_result"
    }
   ],
   "source": [
    "import pandas as pd\n",
    "\n",
    "renewable_resources =['solor','wind','hydro','geothermal','tidal']\n",
    "renewable_resources=pd.Series(renewable_resources)\n",
    "renewable_resources"
   ]
  },
  {
   "cell_type": "code",
   "execution_count": 210,
   "id": "56065d5a-b5d2-4813-b8e3-4692301e90fb",
   "metadata": {},
   "outputs": [
    {
     "data": {
      "text/html": [
       "<div>\n",
       "<style scoped>\n",
       "    .dataframe tbody tr th:only-of-type {\n",
       "        vertical-align: middle;\n",
       "    }\n",
       "\n",
       "    .dataframe tbody tr th {\n",
       "        vertical-align: top;\n",
       "    }\n",
       "\n",
       "    .dataframe thead th {\n",
       "        text-align: right;\n",
       "    }\n",
       "</style>\n",
       "<table border=\"1\" class=\"dataframe\">\n",
       "  <thead>\n",
       "    <tr style=\"text-align: right;\">\n",
       "      <th></th>\n",
       "      <th>Project</th>\n",
       "      <th>Technology</th>\n",
       "      <th>Capacity (MW)</th>\n",
       "      <th>Cost($ milion)</th>\n",
       "      <th>Location</th>\n",
       "      <th>YOC</th>\n",
       "    </tr>\n",
       "  </thead>\n",
       "  <tbody>\n",
       "    <tr>\n",
       "      <th>0</th>\n",
       "      <td>solor farm</td>\n",
       "      <td>solor</td>\n",
       "      <td>150</td>\n",
       "      <td>200</td>\n",
       "      <td>california</td>\n",
       "      <td>2023</td>\n",
       "    </tr>\n",
       "    <tr>\n",
       "      <th>1</th>\n",
       "      <td>wind turbine</td>\n",
       "      <td>wind</td>\n",
       "      <td>300</td>\n",
       "      <td>400</td>\n",
       "      <td>tesla</td>\n",
       "      <td>2022</td>\n",
       "    </tr>\n",
       "    <tr>\n",
       "      <th>2</th>\n",
       "      <td>hydro plant</td>\n",
       "      <td>hydro</td>\n",
       "      <td>200</td>\n",
       "      <td>350</td>\n",
       "      <td>washington</td>\n",
       "      <td>2021</td>\n",
       "    </tr>\n",
       "    <tr>\n",
       "      <th>3</th>\n",
       "      <td>geothermal Station</td>\n",
       "      <td>geothermal</td>\n",
       "      <td>50</td>\n",
       "      <td>100</td>\n",
       "      <td>Naveda</td>\n",
       "      <td>2023</td>\n",
       "    </tr>\n",
       "    <tr>\n",
       "      <th>4</th>\n",
       "      <td>tidal plant</td>\n",
       "      <td>tidal</td>\n",
       "      <td>175</td>\n",
       "      <td>250</td>\n",
       "      <td>landon</td>\n",
       "      <td>2022</td>\n",
       "    </tr>\n",
       "  </tbody>\n",
       "</table>\n",
       "</div>"
      ],
      "text/plain": [
       "              Project  Technology  Capacity (MW)  Cost($ milion)    Location  \\\n",
       "0          solor farm       solor            150             200  california   \n",
       "1        wind turbine        wind            300             400       tesla   \n",
       "2         hydro plant       hydro            200             350  washington   \n",
       "3  geothermal Station  geothermal             50             100      Naveda   \n",
       "4         tidal plant       tidal            175             250      landon   \n",
       "\n",
       "    YOC  \n",
       "0  2023  \n",
       "1  2022  \n",
       "2  2021  \n",
       "3  2023  \n",
       "4  2022  "
      ]
     },
     "execution_count": 210,
     "metadata": {},
     "output_type": "execute_result"
    }
   ],
   "source": [
    "#DataFrame\n",
    "data={\n",
    "    'Project':['solor farm','wind turbine','hydro plant','geothermal Station','tidal plant'],\n",
    "    'Technology':['solor','wind','hydro','geothermal','tidal'],\n",
    "    'Capacity (MW)':[150,300,200,50,175],\n",
    "    'Cost($ milion)':[200,400,350,100,250],\n",
    "    'Location':['california','tesla','washington','Naveda','landon'],\n",
    "    'YOC':[2023,2022,2021,2023,2022]\n",
    "}\n",
    "df=pd.DataFrame(data)\n",
    "df"
   ]
  },
  {
   "cell_type": "code",
   "execution_count": 211,
   "id": "3e378d70-f3df-448a-935d-e0f3367ac1e3",
   "metadata": {},
   "outputs": [
    {
     "data": {
      "text/plain": [
       "Index(['Project', 'Technology', 'Capacity (MW)', 'Cost($ milion)', 'Location',\n",
       "       'YOC'],\n",
       "      dtype='object')"
      ]
     },
     "execution_count": 211,
     "metadata": {},
     "output_type": "execute_result"
    }
   ],
   "source": [
    "df.columns"
   ]
  },
  {
   "cell_type": "code",
   "execution_count": 212,
   "id": "ce51683a-9d4a-4713-8654-1c3ae2c8145c",
   "metadata": {},
   "outputs": [
    {
     "data": {
      "text/plain": [
       "0            solor farm\n",
       "1          wind turbine\n",
       "2           hydro plant\n",
       "3    geothermal Station\n",
       "4           tidal plant\n",
       "Name: Project, dtype: object"
      ]
     },
     "execution_count": 212,
     "metadata": {},
     "output_type": "execute_result"
    }
   ],
   "source": [
    "df['Project']"
   ]
  },
  {
   "cell_type": "code",
   "execution_count": 213,
   "id": "06b5e1a7-3b69-4b59-bb4e-dec78b3a0b3f",
   "metadata": {},
   "outputs": [
    {
     "name": "stdout",
     "output_type": "stream",
     "text": [
      " High Capacity projects are :\n",
      "         Project Technology  Capacity (MW)  Cost($ milion)    Location   YOC\n",
      "1  wind turbine       wind            300             400       tesla  2022\n",
      "2   hydro plant      hydro            200             350  washington  2021\n",
      "4   tidal plant      tidal            175             250      landon  2022\n"
     ]
    }
   ],
   "source": [
    "#filtering Based on capacity\n",
    "\n",
    "high_capacity=df[df['Capacity (MW)'] >150]\n",
    "print(f\" High Capacity projects are :\\n {high_capacity}\")"
   ]
  },
  {
   "cell_type": "code",
   "execution_count": 214,
   "id": "11d81b5a-1b61-424a-8db7-92cb55aed4e4",
   "metadata": {},
   "outputs": [
    {
     "name": "stdout",
     "output_type": "stream",
     "text": [
      "High cost projects are : \n",
      "         Project Technology  Capacity (MW)  Cost($ milion)    Location   YOC\n",
      "1  wind turbine       wind            300             400       tesla  2022\n",
      "2   hydro plant      hydro            200             350  washington  2021\n",
      "4   tidal plant      tidal            175             250      landon  2022\n"
     ]
    }
   ],
   "source": [
    "Higher_cost=df[df['Cost($ milion)'] >200]\n",
    "print(f\"High cost projects are : \\n {Higher_cost}\")"
   ]
  },
  {
   "cell_type": "code",
   "execution_count": 215,
   "id": "68ca2a9f-ce17-4ed5-9912-54e85bf6553e",
   "metadata": {},
   "outputs": [
    {
     "data": {
      "text/html": [
       "<div>\n",
       "<style scoped>\n",
       "    .dataframe tbody tr th:only-of-type {\n",
       "        vertical-align: middle;\n",
       "    }\n",
       "\n",
       "    .dataframe tbody tr th {\n",
       "        vertical-align: top;\n",
       "    }\n",
       "\n",
       "    .dataframe thead th {\n",
       "        text-align: right;\n",
       "    }\n",
       "</style>\n",
       "<table border=\"1\" class=\"dataframe\">\n",
       "  <thead>\n",
       "    <tr style=\"text-align: right;\">\n",
       "      <th></th>\n",
       "      <th>Project</th>\n",
       "      <th>Technology</th>\n",
       "      <th>Capacity (MW)</th>\n",
       "      <th>Cost($ milion)</th>\n",
       "      <th>Location</th>\n",
       "      <th>YOC</th>\n",
       "      <th>cost_per_megawatt</th>\n",
       "    </tr>\n",
       "  </thead>\n",
       "  <tbody>\n",
       "    <tr>\n",
       "      <th>0</th>\n",
       "      <td>solor farm</td>\n",
       "      <td>solor</td>\n",
       "      <td>150</td>\n",
       "      <td>200</td>\n",
       "      <td>california</td>\n",
       "      <td>2023</td>\n",
       "      <td>1.333333</td>\n",
       "    </tr>\n",
       "    <tr>\n",
       "      <th>1</th>\n",
       "      <td>wind turbine</td>\n",
       "      <td>wind</td>\n",
       "      <td>300</td>\n",
       "      <td>400</td>\n",
       "      <td>tesla</td>\n",
       "      <td>2022</td>\n",
       "      <td>1.333333</td>\n",
       "    </tr>\n",
       "    <tr>\n",
       "      <th>2</th>\n",
       "      <td>hydro plant</td>\n",
       "      <td>hydro</td>\n",
       "      <td>200</td>\n",
       "      <td>350</td>\n",
       "      <td>washington</td>\n",
       "      <td>2021</td>\n",
       "      <td>1.750000</td>\n",
       "    </tr>\n",
       "    <tr>\n",
       "      <th>3</th>\n",
       "      <td>geothermal Station</td>\n",
       "      <td>geothermal</td>\n",
       "      <td>50</td>\n",
       "      <td>100</td>\n",
       "      <td>Naveda</td>\n",
       "      <td>2023</td>\n",
       "      <td>2.000000</td>\n",
       "    </tr>\n",
       "    <tr>\n",
       "      <th>4</th>\n",
       "      <td>tidal plant</td>\n",
       "      <td>tidal</td>\n",
       "      <td>175</td>\n",
       "      <td>250</td>\n",
       "      <td>landon</td>\n",
       "      <td>2022</td>\n",
       "      <td>1.428571</td>\n",
       "    </tr>\n",
       "  </tbody>\n",
       "</table>\n",
       "</div>"
      ],
      "text/plain": [
       "              Project  Technology  Capacity (MW)  Cost($ milion)    Location  \\\n",
       "0          solor farm       solor            150             200  california   \n",
       "1        wind turbine        wind            300             400       tesla   \n",
       "2         hydro plant       hydro            200             350  washington   \n",
       "3  geothermal Station  geothermal             50             100      Naveda   \n",
       "4         tidal plant       tidal            175             250      landon   \n",
       "\n",
       "    YOC  cost_per_megawatt  \n",
       "0  2023           1.333333  \n",
       "1  2022           1.333333  \n",
       "2  2021           1.750000  \n",
       "3  2023           2.000000  \n",
       "4  2022           1.428571  "
      ]
     },
     "execution_count": 215,
     "metadata": {},
     "output_type": "execute_result"
    }
   ],
   "source": [
    "#create a column\n",
    "df['cost_per_megawatt']=df['Cost($ milion)']/ df['Capacity (MW)']\n",
    "df"
   ]
  },
  {
   "cell_type": "code",
   "execution_count": 216,
   "id": "656e3699-9ac9-4a48-a75d-7d6d18e18818",
   "metadata": {},
   "outputs": [
    {
     "name": "stdout",
     "output_type": "stream",
     "text": [
      "Total cost :1300 million $ and ,  Total capacity : 875(MW)\n"
     ]
    }
   ],
   "source": [
    "#aggregations\n",
    "#total cost and total capacity\n",
    "\n",
    "total_cost=df['Cost($ milion)'].sum()\n",
    "total_capacity=df['Capacity (MW)'].sum()\n",
    "print(f\"Total cost :{total_cost} million $ and ,  Total capacity : {total_capacity}(MW)\")"
   ]
  },
  {
   "cell_type": "code",
   "execution_count": 217,
   "id": "13dd2659-7111-4e00-8d36-d60680259c21",
   "metadata": {},
   "outputs": [
    {
     "data": {
      "text/plain": [
       "Technology\n",
       "geothermal     50\n",
       "hydro         200\n",
       "solor         150\n",
       "tidal         175\n",
       "wind          300\n",
       "Name: Capacity (MW), dtype: int64"
      ]
     },
     "execution_count": 217,
     "metadata": {},
     "output_type": "execute_result"
    }
   ],
   "source": [
    "#groupby\n",
    "\n",
    "grouped_data= df.groupby('Technology')['Capacity (MW)'].sum()\n",
    "grouped_data"
   ]
  },
  {
   "cell_type": "code",
   "execution_count": 218,
   "id": "91185be5-d716-42eb-8391-202ffa585202",
   "metadata": {},
   "outputs": [
    {
     "data": {
      "text/plain": [
       "array([1, 2])"
      ]
     },
     "execution_count": 218,
     "metadata": {},
     "output_type": "execute_result"
    }
   ],
   "source": [
    "#numpy numerical python\n",
    "\n",
    "import numpy as np\n",
    "a=np.array([1,2])\n",
    "a"
   ]
  },
  {
   "cell_type": "code",
   "execution_count": 219,
   "id": "eabded2f-b0b4-4cdb-becc-4d72ae84ad87",
   "metadata": {},
   "outputs": [
    {
     "data": {
      "text/plain": [
       "1"
      ]
     },
     "execution_count": 219,
     "metadata": {},
     "output_type": "execute_result"
    }
   ],
   "source": [
    "a.ndim"
   ]
  },
  {
   "cell_type": "code",
   "execution_count": 220,
   "id": "396871d3-0479-48ef-b38f-7f93ce22d282",
   "metadata": {},
   "outputs": [
    {
     "data": {
      "text/plain": [
       "array([[1, 2],\n",
       "       [3, 4]])"
      ]
     },
     "execution_count": 220,
     "metadata": {},
     "output_type": "execute_result"
    }
   ],
   "source": [
    "b=np.array([[1,2],[3,4]])\n",
    "b"
   ]
  },
  {
   "cell_type": "code",
   "execution_count": 221,
   "id": "a9ef2535-7cb7-46c7-8c2a-20abe575f1ec",
   "metadata": {},
   "outputs": [
    {
     "data": {
      "text/plain": [
       "2"
      ]
     },
     "execution_count": 221,
     "metadata": {},
     "output_type": "execute_result"
    }
   ],
   "source": [
    "b.ndim"
   ]
  },
  {
   "cell_type": "code",
   "execution_count": 222,
   "id": "17a149d0-1e2e-4c2a-96e7-e0b8808f4bc3",
   "metadata": {},
   "outputs": [
    {
     "data": {
      "text/plain": [
       "array([[[1, 2, 3],\n",
       "        [4, 5, 6],\n",
       "        [7, 8, 9]]])"
      ]
     },
     "execution_count": 222,
     "metadata": {},
     "output_type": "execute_result"
    }
   ],
   "source": [
    "c=np.array([[[1,2,3],[4,5,6],[7,8,9]]])\n",
    "c"
   ]
  },
  {
   "cell_type": "code",
   "execution_count": 223,
   "id": "aa63dd99-586d-4c30-8969-fbd9d28fb1ac",
   "metadata": {},
   "outputs": [
    {
     "data": {
      "text/plain": [
       "3"
      ]
     },
     "execution_count": 223,
     "metadata": {},
     "output_type": "execute_result"
    }
   ],
   "source": [
    "c.ndim"
   ]
  },
  {
   "cell_type": "code",
   "execution_count": 224,
   "id": "917c71ae-b1da-4773-8ac1-2a1f0763bdc3",
   "metadata": {},
   "outputs": [
    {
     "data": {
      "text/plain": [
       "array([[0.92545208, 0.12140897, 0.41487168, 0.93633848],\n",
       "       [0.52021335, 0.91154268, 0.65390834, 0.62799472],\n",
       "       [0.3327699 , 0.64537242, 0.46876392, 0.89543183],\n",
       "       [0.25541447, 0.63448267, 0.27703399, 0.01091   ]])"
      ]
     },
     "execution_count": 224,
     "metadata": {},
     "output_type": "execute_result"
    }
   ],
   "source": [
    "#random\n",
    "d=np.random.rand(4,4)\n",
    "d"
   ]
  },
  {
   "cell_type": "code",
   "execution_count": 225,
   "id": "d2c4b2b4-d22f-4a38-a91e-a2477621689b",
   "metadata": {},
   "outputs": [
    {
     "data": {
      "text/plain": [
       "array([[0, 7, 5],\n",
       "       [2, 0, 7],\n",
       "       [6, 5, 9]])"
      ]
     },
     "execution_count": 225,
     "metadata": {},
     "output_type": "execute_result"
    }
   ],
   "source": [
    "e = np.random.randint(0,10, size=(3,3))\n",
    "e"
   ]
  },
  {
   "cell_type": "code",
   "execution_count": 226,
   "id": "b3e877ce-807d-4eb3-a6c0-6004df6ad9ae",
   "metadata": {},
   "outputs": [
    {
     "data": {
      "text/plain": [
       "array([4, 9, 2, 5])"
      ]
     },
     "execution_count": 226,
     "metadata": {},
     "output_type": "execute_result"
    }
   ],
   "source": [
    "f=np.random.choice(10,4)\n",
    "f"
   ]
  },
  {
   "cell_type": "code",
   "execution_count": 227,
   "id": "628c0e1e-fec4-4ee8-9b31-9f543da20e2a",
   "metadata": {},
   "outputs": [
    {
     "name": "stdout",
     "output_type": "stream",
     "text": [
      "Energy Consumption( in mw) for different renewable resources : [1200 1400 2000 1800 2500]\n"
     ]
    }
   ],
   "source": [
    "import numpy as np\n",
    "energy_consumption = np.array([1200,1400,2000,1800,2500])\n",
    "print(f\"Energy Consumption( in mw) for different renewable resources :\",energy_consumption)"
   ]
  },
  {
   "cell_type": "code",
   "execution_count": 228,
   "id": "ed20e92e-9648-4c0e-9172-45ae0600fd85",
   "metadata": {},
   "outputs": [
    {
     "name": "stdout",
     "output_type": "stream",
     "text": [
      "Total Energy consumption is : 8900 mwh\n"
     ]
    }
   ],
   "source": [
    "total_consumption=np.sum(energy_consumption)\n",
    "print(f\"Total Energy consumption is : {total_consumption} mwh\")"
   ]
  },
  {
   "cell_type": "code",
   "execution_count": 229,
   "id": "f77c608b-602a-4f35-9031-d4bc3f03c8e3",
   "metadata": {},
   "outputs": [
    {
     "name": "stdout",
     "output_type": "stream",
     "text": [
      "The avrarage energy consumption : 1780.0\n"
     ]
    }
   ],
   "source": [
    "mean_Avg_cors = np.mean(energy_consumption)\n",
    "print(f\"The avrarage energy consumption : {mean_Avg_cors}\")"
   ]
  },
  {
   "cell_type": "code",
   "execution_count": 230,
   "id": "f74a7ec4-8101-4bd5-838e-1a06a2777ff8",
   "metadata": {},
   "outputs": [
    {
     "name": "stdout",
     "output_type": "stream",
     "text": [
      " the Standrad Deviation is : 457.8209256903839\n"
     ]
    }
   ],
   "source": [
    "standrad_deviation = np.std(energy_consumption)\n",
    "print(f\" the Standrad Deviation is : {standrad_deviation}\")"
   ]
  },
  {
   "cell_type": "code",
   "execution_count": 231,
   "id": "920b6ab7-f9e8-4dad-99e7-ef3dfc6c425b",
   "metadata": {},
   "outputs": [
    {
     "data": {
      "text/plain": [
       "array([[1200],\n",
       "       [1400],\n",
       "       [2000],\n",
       "       [1800],\n",
       "       [2500]])"
      ]
     },
     "execution_count": 231,
     "metadata": {},
     "output_type": "execute_result"
    }
   ],
   "source": [
    "reshaped_Array=energy_consumption.reshape((5,1))\n",
    "reshaped_Array"
   ]
  },
  {
   "cell_type": "raw",
   "id": "58fd9f84-093e-4087-a915-c2f3b96a29dd",
   "metadata": {},
   "source": [
    "PANDAS"
   ]
  },
  {
   "cell_type": "code",
   "execution_count": 232,
   "id": "8a9ecd9c-150a-4818-8f34-213c4081948d",
   "metadata": {},
   "outputs": [
    {
     "data": {
      "text/html": [
       "<div>\n",
       "<style scoped>\n",
       "    .dataframe tbody tr th:only-of-type {\n",
       "        vertical-align: middle;\n",
       "    }\n",
       "\n",
       "    .dataframe tbody tr th {\n",
       "        vertical-align: top;\n",
       "    }\n",
       "\n",
       "    .dataframe thead th {\n",
       "        text-align: right;\n",
       "    }\n",
       "</style>\n",
       "<table border=\"1\" class=\"dataframe\">\n",
       "  <thead>\n",
       "    <tr style=\"text-align: right;\">\n",
       "      <th></th>\n",
       "      <th>Energy Source</th>\n",
       "      <th>Energy Consumption (MWh)</th>\n",
       "      <th>Cost (Million $)</th>\n",
       "    </tr>\n",
       "  </thead>\n",
       "  <tbody>\n",
       "    <tr>\n",
       "      <th>0</th>\n",
       "      <td>Solar</td>\n",
       "      <td>1200.0</td>\n",
       "      <td>200.0</td>\n",
       "    </tr>\n",
       "    <tr>\n",
       "      <th>1</th>\n",
       "      <td>Wind</td>\n",
       "      <td>NaN</td>\n",
       "      <td>400.0</td>\n",
       "    </tr>\n",
       "    <tr>\n",
       "      <th>2</th>\n",
       "      <td>Hydropower</td>\n",
       "      <td>2900.0</td>\n",
       "      <td>NaN</td>\n",
       "    </tr>\n",
       "    <tr>\n",
       "      <th>3</th>\n",
       "      <td>Geothermal</td>\n",
       "      <td>NaN</td>\n",
       "      <td>150.0</td>\n",
       "    </tr>\n",
       "    <tr>\n",
       "      <th>4</th>\n",
       "      <td>Biomass</td>\n",
       "      <td>2500.0</td>\n",
       "      <td>250.0</td>\n",
       "    </tr>\n",
       "  </tbody>\n",
       "</table>\n",
       "</div>"
      ],
      "text/plain": [
       "  Energy Source  Energy Consumption (MWh)  Cost (Million $)\n",
       "0         Solar                    1200.0             200.0\n",
       "1          Wind                       NaN             400.0\n",
       "2    Hydropower                    2900.0               NaN\n",
       "3    Geothermal                       NaN             150.0\n",
       "4       Biomass                    2500.0             250.0"
      ]
     },
     "execution_count": 232,
     "metadata": {},
     "output_type": "execute_result"
    }
   ],
   "source": [
    "import pandas as pd\n",
    "data = {\n",
    "    \"Energy Source\": [\"Solar\", \"Wind\", \"Hydropower\", \"Geothermal\", \"Biomass\", \"Nuclear\"],\n",
    "    \"Energy Consumption (MWh)\": [1200, np.nan, 2900, np.nan, 2500, 3200],\n",
    "    \"Cost (Million $)\": [200,400,np.nan,150,250,np.nan]\n",
    "}\n",
    "energy_df = pd.DataFrame(data)\n",
    "energy_df.head() #5rows"
   ]
  },
  {
   "cell_type": "code",
   "execution_count": 233,
   "id": "3d1eafa0-25e8-432e-a083-092dd78b2907",
   "metadata": {},
   "outputs": [
    {
     "data": {
      "text/plain": [
       "Energy Source               0\n",
       "Energy Consumption (MWh)    2\n",
       "Cost (Million $)            2\n",
       "dtype: int64"
      ]
     },
     "execution_count": 233,
     "metadata": {},
     "output_type": "execute_result"
    }
   ],
   "source": [
    "energy_df.isnull().sum()"
   ]
  },
  {
   "cell_type": "code",
   "execution_count": 234,
   "id": "65de92dd-88de-4b51-a27c-cbe619318234",
   "metadata": {},
   "outputs": [
    {
     "data": {
      "text/html": [
       "<div>\n",
       "<style scoped>\n",
       "    .dataframe tbody tr th:only-of-type {\n",
       "        vertical-align: middle;\n",
       "    }\n",
       "\n",
       "    .dataframe tbody tr th {\n",
       "        vertical-align: top;\n",
       "    }\n",
       "\n",
       "    .dataframe thead th {\n",
       "        text-align: right;\n",
       "    }\n",
       "</style>\n",
       "<table border=\"1\" class=\"dataframe\">\n",
       "  <thead>\n",
       "    <tr style=\"text-align: right;\">\n",
       "      <th></th>\n",
       "      <th>Energy Source</th>\n",
       "      <th>Energy Consumption (MWh)</th>\n",
       "      <th>Cost (Million $)</th>\n",
       "    </tr>\n",
       "  </thead>\n",
       "  <tbody>\n",
       "    <tr>\n",
       "      <th>0</th>\n",
       "      <td>Solar</td>\n",
       "      <td>1200.0</td>\n",
       "      <td>200.0</td>\n",
       "    </tr>\n",
       "    <tr>\n",
       "      <th>4</th>\n",
       "      <td>Biomass</td>\n",
       "      <td>2500.0</td>\n",
       "      <td>250.0</td>\n",
       "    </tr>\n",
       "  </tbody>\n",
       "</table>\n",
       "</div>"
      ],
      "text/plain": [
       "  Energy Source  Energy Consumption (MWh)  Cost (Million $)\n",
       "0         Solar                    1200.0             200.0\n",
       "4       Biomass                    2500.0             250.0"
      ]
     },
     "execution_count": 234,
     "metadata": {},
     "output_type": "execute_result"
    }
   ],
   "source": [
    "cleaned_df=energy_df.dropna()\n",
    "cleaned_df"
   ]
  },
  {
   "cell_type": "code",
   "execution_count": 235,
   "id": "6542266b-eb07-4592-b541-5f7fb98087cf",
   "metadata": {},
   "outputs": [
    {
     "data": {
      "text/html": [
       "<div>\n",
       "<style scoped>\n",
       "    .dataframe tbody tr th:only-of-type {\n",
       "        vertical-align: middle;\n",
       "    }\n",
       "\n",
       "    .dataframe tbody tr th {\n",
       "        vertical-align: top;\n",
       "    }\n",
       "\n",
       "    .dataframe thead th {\n",
       "        text-align: right;\n",
       "    }\n",
       "</style>\n",
       "<table border=\"1\" class=\"dataframe\">\n",
       "  <thead>\n",
       "    <tr style=\"text-align: right;\">\n",
       "      <th></th>\n",
       "      <th>Energy Source</th>\n",
       "      <th>Energy Consumption (MWh)</th>\n",
       "      <th>Cost (Million $)</th>\n",
       "    </tr>\n",
       "  </thead>\n",
       "  <tbody>\n",
       "    <tr>\n",
       "      <th>0</th>\n",
       "      <td>Solar</td>\n",
       "      <td>1200.0</td>\n",
       "      <td>200.0</td>\n",
       "    </tr>\n",
       "    <tr>\n",
       "      <th>1</th>\n",
       "      <td>Wind</td>\n",
       "      <td>2450.0</td>\n",
       "      <td>400.0</td>\n",
       "    </tr>\n",
       "    <tr>\n",
       "      <th>2</th>\n",
       "      <td>Hydropower</td>\n",
       "      <td>2900.0</td>\n",
       "      <td>NaN</td>\n",
       "    </tr>\n",
       "    <tr>\n",
       "      <th>3</th>\n",
       "      <td>Geothermal</td>\n",
       "      <td>2450.0</td>\n",
       "      <td>150.0</td>\n",
       "    </tr>\n",
       "    <tr>\n",
       "      <th>4</th>\n",
       "      <td>Biomass</td>\n",
       "      <td>2500.0</td>\n",
       "      <td>250.0</td>\n",
       "    </tr>\n",
       "    <tr>\n",
       "      <th>5</th>\n",
       "      <td>Nuclear</td>\n",
       "      <td>3200.0</td>\n",
       "      <td>NaN</td>\n",
       "    </tr>\n",
       "  </tbody>\n",
       "</table>\n",
       "</div>"
      ],
      "text/plain": [
       "  Energy Source  Energy Consumption (MWh)  Cost (Million $)\n",
       "0         Solar                    1200.0             200.0\n",
       "1          Wind                    2450.0             400.0\n",
       "2    Hydropower                    2900.0               NaN\n",
       "3    Geothermal                    2450.0             150.0\n",
       "4       Biomass                    2500.0             250.0\n",
       "5       Nuclear                    3200.0               NaN"
      ]
     },
     "execution_count": 235,
     "metadata": {},
     "output_type": "execute_result"
    }
   ],
   "source": [
    "energy_df['Energy Consumption (MWh)'].fillna(energy_df['Energy Consumption (MWh)'].mean(), inplace=True)\n",
    "energy_df"
   ]
  },
  {
   "cell_type": "code",
   "execution_count": 241,
   "id": "98d9882d-19ce-44bb-bc0b-07ffb0b51efb",
   "metadata": {},
   "outputs": [
    {
     "data": {
      "text/html": [
       "<div>\n",
       "<style scoped>\n",
       "    .dataframe tbody tr th:only-of-type {\n",
       "        vertical-align: middle;\n",
       "    }\n",
       "\n",
       "    .dataframe tbody tr th {\n",
       "        vertical-align: top;\n",
       "    }\n",
       "\n",
       "    .dataframe thead th {\n",
       "        text-align: right;\n",
       "    }\n",
       "</style>\n",
       "<table border=\"1\" class=\"dataframe\">\n",
       "  <thead>\n",
       "    <tr style=\"text-align: right;\">\n",
       "      <th></th>\n",
       "      <th>Energy Source</th>\n",
       "      <th>Energy Consumption (MWh)</th>\n",
       "      <th>Cost (Million $)</th>\n",
       "    </tr>\n",
       "  </thead>\n",
       "  <tbody>\n",
       "    <tr>\n",
       "      <th>0</th>\n",
       "      <td>Solar</td>\n",
       "      <td>0.000</td>\n",
       "      <td>0.2</td>\n",
       "    </tr>\n",
       "    <tr>\n",
       "      <th>1</th>\n",
       "      <td>Wind</td>\n",
       "      <td>0.625</td>\n",
       "      <td>1.0</td>\n",
       "    </tr>\n",
       "    <tr>\n",
       "      <th>2</th>\n",
       "      <td>Hydropower</td>\n",
       "      <td>0.850</td>\n",
       "      <td>0.4</td>\n",
       "    </tr>\n",
       "    <tr>\n",
       "      <th>3</th>\n",
       "      <td>Geothermal</td>\n",
       "      <td>0.625</td>\n",
       "      <td>0.0</td>\n",
       "    </tr>\n",
       "    <tr>\n",
       "      <th>4</th>\n",
       "      <td>Biomass</td>\n",
       "      <td>0.650</td>\n",
       "      <td>0.4</td>\n",
       "    </tr>\n",
       "    <tr>\n",
       "      <th>5</th>\n",
       "      <td>Nuclear</td>\n",
       "      <td>1.000</td>\n",
       "      <td>0.4</td>\n",
       "    </tr>\n",
       "  </tbody>\n",
       "</table>\n",
       "</div>"
      ],
      "text/plain": [
       "  Energy Source  Energy Consumption (MWh)  Cost (Million $)\n",
       "0         Solar                     0.000               0.2\n",
       "1          Wind                     0.625               1.0\n",
       "2    Hydropower                     0.850               0.4\n",
       "3    Geothermal                     0.625               0.0\n",
       "4       Biomass                     0.650               0.4\n",
       "5       Nuclear                     1.000               0.4"
      ]
     },
     "execution_count": 241,
     "metadata": {},
     "output_type": "execute_result"
    }
   ],
   "source": [
    "energy_df['Cost (Million $)'].fillna(energy_df['Cost (Million $)'].mean(), inplace=True)\n",
    "energy_df"
   ]
  },
  {
   "cell_type": "code",
   "execution_count": 247,
   "id": "0457ab9e-2c41-4fb2-a49f-29a402e52875",
   "metadata": {},
   "outputs": [
    {
     "data": {
      "text/html": [
       "<div>\n",
       "<style scoped>\n",
       "    .dataframe tbody tr th:only-of-type {\n",
       "        vertical-align: middle;\n",
       "    }\n",
       "\n",
       "    .dataframe tbody tr th {\n",
       "        vertical-align: top;\n",
       "    }\n",
       "\n",
       "    .dataframe thead th {\n",
       "        text-align: right;\n",
       "    }\n",
       "</style>\n",
       "<table border=\"1\" class=\"dataframe\">\n",
       "  <thead>\n",
       "    <tr style=\"text-align: right;\">\n",
       "      <th></th>\n",
       "      <th>Energy Source</th>\n",
       "      <th>Energy Consumption (MWh)</th>\n",
       "      <th>Cost (Million $)</th>\n",
       "      <th>Cost per MWh</th>\n",
       "    </tr>\n",
       "  </thead>\n",
       "  <tbody>\n",
       "    <tr>\n",
       "      <th>0</th>\n",
       "      <td>Solar</td>\n",
       "      <td>-2.005893e+00</td>\n",
       "      <td>-6.546537e-01</td>\n",
       "      <td>3.263653e-01</td>\n",
       "    </tr>\n",
       "    <tr>\n",
       "      <th>1</th>\n",
       "      <td>Wind</td>\n",
       "      <td>3.563181e-16</td>\n",
       "      <td>1.963961e+00</td>\n",
       "      <td>5.511819e+15</td>\n",
       "    </tr>\n",
       "    <tr>\n",
       "      <th>2</th>\n",
       "      <td>Hydropower</td>\n",
       "      <td>7.221213e-01</td>\n",
       "      <td>1.817029e-16</td>\n",
       "      <td>2.516238e-16</td>\n",
       "    </tr>\n",
       "    <tr>\n",
       "      <th>3</th>\n",
       "      <td>Geothermal</td>\n",
       "      <td>3.563181e-16</td>\n",
       "      <td>-1.309307e+00</td>\n",
       "      <td>-3.674546e+15</td>\n",
       "    </tr>\n",
       "    <tr>\n",
       "      <th>4</th>\n",
       "      <td>Biomass</td>\n",
       "      <td>8.023570e-02</td>\n",
       "      <td>1.817029e-16</td>\n",
       "      <td>2.264614e-15</td>\n",
       "    </tr>\n",
       "    <tr>\n",
       "      <th>5</th>\n",
       "      <td>Nuclear</td>\n",
       "      <td>1.203536e+00</td>\n",
       "      <td>1.817029e-16</td>\n",
       "      <td>1.509743e-16</td>\n",
       "    </tr>\n",
       "  </tbody>\n",
       "</table>\n",
       "</div>"
      ],
      "text/plain": [
       "  Energy Source  Energy Consumption (MWh)  Cost (Million $)  Cost per MWh\n",
       "0         Solar             -2.005893e+00     -6.546537e-01  3.263653e-01\n",
       "1          Wind              3.563181e-16      1.963961e+00  5.511819e+15\n",
       "2    Hydropower              7.221213e-01      1.817029e-16  2.516238e-16\n",
       "3    Geothermal              3.563181e-16     -1.309307e+00 -3.674546e+15\n",
       "4       Biomass              8.023570e-02      1.817029e-16  2.264614e-15\n",
       "5       Nuclear              1.203536e+00      1.817029e-16  1.509743e-16"
      ]
     },
     "execution_count": 247,
     "metadata": {},
     "output_type": "execute_result"
    }
   ],
   "source": [
    "energy_df['Cost (Million $)'] = energy_df['Cost (Million $)'].fillna(energy_df['Cost (Million $)'].mean())\n",
    "energy_df['Cost per MWh'] = energy_df['Cost (Million $)'] / energy_df['Energy Consumption (MWh)']\n",
    "energy_df"
   ]
  },
  {
   "cell_type": "code",
   "execution_count": 248,
   "id": "81b15f72-e009-4937-bc4c-17985b3cec69",
   "metadata": {},
   "outputs": [
    {
     "data": {
      "text/plain": [
       "0    3.263653e-01\n",
       "1    5.511819e+15\n",
       "2    2.516238e-16\n",
       "3   -3.674546e+15\n",
       "4    2.264614e-15\n",
       "5    1.509743e-16\n",
       "Name: Cost per MWh, dtype: float64"
      ]
     },
     "execution_count": 248,
     "metadata": {},
     "output_type": "execute_result"
    }
   ],
   "source": [
    "cost_per_mwh = energy_df['Cost per MWh']\n",
    "cost_per_mwh"
   ]
  },
  {
   "cell_type": "code",
   "execution_count": 242,
   "id": "98f125ed-b44c-48b7-9f3f-4039be5e0a06",
   "metadata": {},
   "outputs": [
    {
     "data": {
      "text/html": [
       "<div>\n",
       "<style scoped>\n",
       "    .dataframe tbody tr th:only-of-type {\n",
       "        vertical-align: middle;\n",
       "    }\n",
       "\n",
       "    .dataframe tbody tr th {\n",
       "        vertical-align: top;\n",
       "    }\n",
       "\n",
       "    .dataframe thead th {\n",
       "        text-align: right;\n",
       "    }\n",
       "</style>\n",
       "<table border=\"1\" class=\"dataframe\">\n",
       "  <thead>\n",
       "    <tr style=\"text-align: right;\">\n",
       "      <th></th>\n",
       "      <th>Energy Source</th>\n",
       "      <th>Energy Consumption (MWh)</th>\n",
       "      <th>Cost (Million $)</th>\n",
       "    </tr>\n",
       "  </thead>\n",
       "  <tbody>\n",
       "    <tr>\n",
       "      <th>0</th>\n",
       "      <td>Solar</td>\n",
       "      <td>-2.005893e+00</td>\n",
       "      <td>-6.546537e-01</td>\n",
       "    </tr>\n",
       "    <tr>\n",
       "      <th>1</th>\n",
       "      <td>Wind</td>\n",
       "      <td>3.563181e-16</td>\n",
       "      <td>1.963961e+00</td>\n",
       "    </tr>\n",
       "    <tr>\n",
       "      <th>2</th>\n",
       "      <td>Hydropower</td>\n",
       "      <td>7.221213e-01</td>\n",
       "      <td>1.817029e-16</td>\n",
       "    </tr>\n",
       "    <tr>\n",
       "      <th>3</th>\n",
       "      <td>Geothermal</td>\n",
       "      <td>3.563181e-16</td>\n",
       "      <td>-1.309307e+00</td>\n",
       "    </tr>\n",
       "    <tr>\n",
       "      <th>4</th>\n",
       "      <td>Biomass</td>\n",
       "      <td>8.023570e-02</td>\n",
       "      <td>1.817029e-16</td>\n",
       "    </tr>\n",
       "    <tr>\n",
       "      <th>5</th>\n",
       "      <td>Nuclear</td>\n",
       "      <td>1.203536e+00</td>\n",
       "      <td>1.817029e-16</td>\n",
       "    </tr>\n",
       "  </tbody>\n",
       "</table>\n",
       "</div>"
      ],
      "text/plain": [
       "  Energy Source  Energy Consumption (MWh)  Cost (Million $)\n",
       "0         Solar             -2.005893e+00     -6.546537e-01\n",
       "1          Wind              3.563181e-16      1.963961e+00\n",
       "2    Hydropower              7.221213e-01      1.817029e-16\n",
       "3    Geothermal              3.563181e-16     -1.309307e+00\n",
       "4       Biomass              8.023570e-02      1.817029e-16\n",
       "5       Nuclear              1.203536e+00      1.817029e-16"
      ]
     },
     "execution_count": 242,
     "metadata": {},
     "output_type": "execute_result"
    }
   ],
   "source": [
    "from sklearn.preprocessing import StandardScaler\n",
    "std_scaler = StandardScaler()\n",
    "energy_df[['Energy Consumption (MWh)','Cost (Million $)']] = std_scaler.fit_transform(energy_df[['Energy Consumption (MWh)','Cost (Million $)']])\n",
    "energy_df"
   ]
  },
  {
   "cell_type": "code",
   "execution_count": 239,
   "id": "2b58da1c-81fd-489f-8d91-6d095295def8",
   "metadata": {},
   "outputs": [
    {
     "data": {
      "text/html": [
       "<div>\n",
       "<style scoped>\n",
       "    .dataframe tbody tr th:only-of-type {\n",
       "        vertical-align: middle;\n",
       "    }\n",
       "\n",
       "    .dataframe tbody tr th {\n",
       "        vertical-align: top;\n",
       "    }\n",
       "\n",
       "    .dataframe thead th {\n",
       "        text-align: right;\n",
       "    }\n",
       "</style>\n",
       "<table border=\"1\" class=\"dataframe\">\n",
       "  <thead>\n",
       "    <tr style=\"text-align: right;\">\n",
       "      <th></th>\n",
       "      <th>Energy Source</th>\n",
       "      <th>Energy Consumption (MWh)</th>\n",
       "      <th>Cost (Million $)</th>\n",
       "    </tr>\n",
       "  </thead>\n",
       "  <tbody>\n",
       "    <tr>\n",
       "      <th>0</th>\n",
       "      <td>Solar</td>\n",
       "      <td>0.000</td>\n",
       "      <td>0.2</td>\n",
       "    </tr>\n",
       "    <tr>\n",
       "      <th>1</th>\n",
       "      <td>Wind</td>\n",
       "      <td>0.625</td>\n",
       "      <td>1.0</td>\n",
       "    </tr>\n",
       "    <tr>\n",
       "      <th>2</th>\n",
       "      <td>Hydropower</td>\n",
       "      <td>0.850</td>\n",
       "      <td>0.4</td>\n",
       "    </tr>\n",
       "    <tr>\n",
       "      <th>3</th>\n",
       "      <td>Geothermal</td>\n",
       "      <td>0.625</td>\n",
       "      <td>0.0</td>\n",
       "    </tr>\n",
       "    <tr>\n",
       "      <th>4</th>\n",
       "      <td>Biomass</td>\n",
       "      <td>0.650</td>\n",
       "      <td>0.4</td>\n",
       "    </tr>\n",
       "    <tr>\n",
       "      <th>5</th>\n",
       "      <td>Nuclear</td>\n",
       "      <td>1.000</td>\n",
       "      <td>0.4</td>\n",
       "    </tr>\n",
       "  </tbody>\n",
       "</table>\n",
       "</div>"
      ],
      "text/plain": [
       "  Energy Source  Energy Consumption (MWh)  Cost (Million $)\n",
       "0         Solar                     0.000               0.2\n",
       "1          Wind                     0.625               1.0\n",
       "2    Hydropower                     0.850               0.4\n",
       "3    Geothermal                     0.625               0.0\n",
       "4       Biomass                     0.650               0.4\n",
       "5       Nuclear                     1.000               0.4"
      ]
     },
     "execution_count": 239,
     "metadata": {},
     "output_type": "execute_result"
    }
   ],
   "source": [
    "from sklearn.preprocessing import MinMaxScaler\n",
    "scaler = MinMaxScaler()\n",
    "energy_df[['Energy Consumption (MWh)','Cost (Million $)']] = scaler.fit_transform(energy_df[['Energy Consumption (MWh)','Cost (Million $)']])\n",
    "energy_df"
   ]
  },
  {
   "cell_type": "code",
   "execution_count": 249,
   "id": "57238e49-02d7-4633-9883-7178411b462d",
   "metadata": {},
   "outputs": [
    {
     "data": {
      "text/html": [
       "<div>\n",
       "<style scoped>\n",
       "    .dataframe tbody tr th:only-of-type {\n",
       "        vertical-align: middle;\n",
       "    }\n",
       "\n",
       "    .dataframe tbody tr th {\n",
       "        vertical-align: top;\n",
       "    }\n",
       "\n",
       "    .dataframe thead th {\n",
       "        text-align: right;\n",
       "    }\n",
       "</style>\n",
       "<table border=\"1\" class=\"dataframe\">\n",
       "  <thead>\n",
       "    <tr style=\"text-align: right;\">\n",
       "      <th></th>\n",
       "      <th>Energy Consumption (MWh)</th>\n",
       "      <th>Cost (Million $)</th>\n",
       "      <th>Cost per MWh</th>\n",
       "      <th>Energy Source_Biomass</th>\n",
       "      <th>Energy Source_Geothermal</th>\n",
       "      <th>Energy Source_Hydropower</th>\n",
       "      <th>Energy Source_Nuclear</th>\n",
       "      <th>Energy Source_Solar</th>\n",
       "      <th>Energy Source_Wind</th>\n",
       "    </tr>\n",
       "  </thead>\n",
       "  <tbody>\n",
       "    <tr>\n",
       "      <th>0</th>\n",
       "      <td>-2.005893e+00</td>\n",
       "      <td>-6.546537e-01</td>\n",
       "      <td>3.263653e-01</td>\n",
       "      <td>False</td>\n",
       "      <td>False</td>\n",
       "      <td>False</td>\n",
       "      <td>False</td>\n",
       "      <td>True</td>\n",
       "      <td>False</td>\n",
       "    </tr>\n",
       "    <tr>\n",
       "      <th>1</th>\n",
       "      <td>3.563181e-16</td>\n",
       "      <td>1.963961e+00</td>\n",
       "      <td>5.511819e+15</td>\n",
       "      <td>False</td>\n",
       "      <td>False</td>\n",
       "      <td>False</td>\n",
       "      <td>False</td>\n",
       "      <td>False</td>\n",
       "      <td>True</td>\n",
       "    </tr>\n",
       "    <tr>\n",
       "      <th>2</th>\n",
       "      <td>7.221213e-01</td>\n",
       "      <td>1.817029e-16</td>\n",
       "      <td>2.516238e-16</td>\n",
       "      <td>False</td>\n",
       "      <td>False</td>\n",
       "      <td>True</td>\n",
       "      <td>False</td>\n",
       "      <td>False</td>\n",
       "      <td>False</td>\n",
       "    </tr>\n",
       "    <tr>\n",
       "      <th>3</th>\n",
       "      <td>3.563181e-16</td>\n",
       "      <td>-1.309307e+00</td>\n",
       "      <td>-3.674546e+15</td>\n",
       "      <td>False</td>\n",
       "      <td>True</td>\n",
       "      <td>False</td>\n",
       "      <td>False</td>\n",
       "      <td>False</td>\n",
       "      <td>False</td>\n",
       "    </tr>\n",
       "    <tr>\n",
       "      <th>4</th>\n",
       "      <td>8.023570e-02</td>\n",
       "      <td>1.817029e-16</td>\n",
       "      <td>2.264614e-15</td>\n",
       "      <td>True</td>\n",
       "      <td>False</td>\n",
       "      <td>False</td>\n",
       "      <td>False</td>\n",
       "      <td>False</td>\n",
       "      <td>False</td>\n",
       "    </tr>\n",
       "    <tr>\n",
       "      <th>5</th>\n",
       "      <td>1.203536e+00</td>\n",
       "      <td>1.817029e-16</td>\n",
       "      <td>1.509743e-16</td>\n",
       "      <td>False</td>\n",
       "      <td>False</td>\n",
       "      <td>False</td>\n",
       "      <td>True</td>\n",
       "      <td>False</td>\n",
       "      <td>False</td>\n",
       "    </tr>\n",
       "  </tbody>\n",
       "</table>\n",
       "</div>"
      ],
      "text/plain": [
       "   Energy Consumption (MWh)  Cost (Million $)  Cost per MWh  \\\n",
       "0             -2.005893e+00     -6.546537e-01  3.263653e-01   \n",
       "1              3.563181e-16      1.963961e+00  5.511819e+15   \n",
       "2              7.221213e-01      1.817029e-16  2.516238e-16   \n",
       "3              3.563181e-16     -1.309307e+00 -3.674546e+15   \n",
       "4              8.023570e-02      1.817029e-16  2.264614e-15   \n",
       "5              1.203536e+00      1.817029e-16  1.509743e-16   \n",
       "\n",
       "   Energy Source_Biomass  Energy Source_Geothermal  Energy Source_Hydropower  \\\n",
       "0                  False                     False                     False   \n",
       "1                  False                     False                     False   \n",
       "2                  False                     False                      True   \n",
       "3                  False                      True                     False   \n",
       "4                   True                     False                     False   \n",
       "5                  False                     False                     False   \n",
       "\n",
       "   Energy Source_Nuclear  Energy Source_Solar  Energy Source_Wind  \n",
       "0                  False                 True               False  \n",
       "1                  False                False                True  \n",
       "2                  False                False               False  \n",
       "3                  False                False               False  \n",
       "4                  False                False               False  \n",
       "5                   True                False               False  "
      ]
     },
     "execution_count": 249,
     "metadata": {},
     "output_type": "execute_result"
    }
   ],
   "source": [
    "##One hot encoding (OHE)-pd.encoding\n",
    "energy_encoded_df = pd.get_dummies(energy_df,columns=['Energy Source'])\n",
    "energy_encoded_df"
   ]
  },
  {
   "cell_type": "code",
   "execution_count": 244,
   "id": "9a77acc6-a6ca-4d2d-be76-7acef55714de",
   "metadata": {},
   "outputs": [],
   "source": [
    "#line plot\n",
    "months = ['jan','feb','mar','apr','may','jun']\n",
    "energy_cons = [1200,1300,1100,1500,1400,1600]"
   ]
  },
  {
   "cell_type": "code",
   "execution_count": 246,
   "id": "baca4cb0-d0a1-4963-bce8-c49fa749cc40",
   "metadata": {},
   "outputs": [
    {
     "data": {
      "image/png": "[encoded data removed]",
      "text/plain": [
       "<Figure size 640x480 with 1 Axes>"
      ]
     },
     "metadata": {},
     "output_type": "display_data"
    }
   ],
   "source": [
    "##lets import matplotlib\n",
    "import matplotlib.pyplot as plt\n",
    "plt.plot(months,energy_cons,marker='o',linestyle='dashed',color='blue')\n",
    "plt.title('Energy Consumption Over Time')\n",
    "plt.xlabel('Months')\n",
    "plt.ylabel('Energy Consumption (MWh)')\n",
    "plt.show()"
   ]
  },
  {
   "cell_type": "code",
   "execution_count": 252,
   "id": "34391fa4-1165-45ef-8130-7a3c7c09df18",
   "metadata": {},
   "outputs": [
    {
     "data": {
      "image/png": "[encoded data removed]",
      "text/plain": [
       "<Figure size 640x480 with 1 Axes>"
      ]
     },
     "metadata": {},
     "output_type": "display_data"
    }
   ],
   "source": [
    "#bar plot\n",
    "energy_sources = ['Solar','wind','hydropower','Biomass']\n",
    "values = [1200,3400,2900,2500]\n",
    "plt.bar(energy_sources,values,color='blue')\n",
    "plt.title('Energy Consumption by source')\n",
    "plt.xlabel('Energy sources')\n",
    "plt.ylabel('values')\n",
    "plt.show()"
   ]
  },
  {
   "cell_type": "code",
   "execution_count": 253,
   "id": "1ebda95a-1c86-4985-8705-c65d04cae869",
   "metadata": {},
   "outputs": [
    {
     "data": {
      "image/png": "[encoded data removed]",
      "text/plain": [
       "<Figure size 640x480 with 1 Axes>"
      ]
     },
     "metadata": {},
     "output_type": "display_data"
    }
   ],
   "source": [
    "plt.pie(values,labels=energy_sources,autopct='%1.1f%%')\n",
    "plt.title('Energy consumption')\n",
    "plt.show()"
   ]
  },
  {
   "cell_type": "code",
   "execution_count": 255,
   "id": "16096751-0660-4238-a634-8d9b0e237d40",
   "metadata": {},
   "outputs": [
    {
     "data": {
      "image/png": "[encoded data removed]",
      "text/plain": [
       "<Figure size 640x480 with 1 Axes>"
      ]
     },
     "metadata": {},
     "output_type": "display_data"
    }
   ],
   "source": [
    "carbon_emmision=[200,500,450,300]\n",
    "plt.scatter(values,carbon_emmision,color='Red')\n",
    "plt.show()\n"
   ]
  },
  {
   "cell_type": "code",
   "execution_count": 258,
   "id": "727c3e24-9128-4887-89bb-8e8217fe6595",
   "metadata": {},
   "outputs": [
    {
     "data": {
      "image/png": "[encoded data removed]",
      "text/plain": [
       "<Figure size 640x480 with 1 Axes>"
      ]
     },
     "metadata": {},
     "output_type": "display_data"
    }
   ],
   "source": [
    "plt.bar(energy_sources,values,color='orange',edgecolor='black',linewidth=2)\n",
    "plt.title('Coustamized bar plot')\n",
    "plt.xlabel('Energy Sources',fontsize=12)\n",
    "plt.ylabel('values',fontsize=12)\n",
    "plt.grid(True,linestyle='--',alpha=0.7)\n",
    "plt.legend('energy Consumption(mWh)',loc='upper left')\n",
    "plt.show()"
   ]
  },
  {
   "cell_type": "raw",
   "id": "a5060efe-054e-4379-839a-b88408f21f36",
   "metadata": {},
   "source": [
    "SEABORN"
   ]
  },
  {
   "cell_type": "code",
   "execution_count": 260,
   "id": "85b0932c-df1f-4234-b589-969cf1d019b3",
   "metadata": {},
   "outputs": [
    {
     "data": {
      "text/html": [
       "<div>\n",
       "<style scoped>\n",
       "    .dataframe tbody tr th:only-of-type {\n",
       "        vertical-align: middle;\n",
       "    }\n",
       "\n",
       "    .dataframe tbody tr th {\n",
       "        vertical-align: top;\n",
       "    }\n",
       "\n",
       "    .dataframe thead th {\n",
       "        text-align: right;\n",
       "    }\n",
       "</style>\n",
       "<table border=\"1\" class=\"dataframe\">\n",
       "  <thead>\n",
       "    <tr style=\"text-align: right;\">\n",
       "      <th></th>\n",
       "      <th>solar</th>\n",
       "      <th>wind</th>\n",
       "      <th>hydropower</th>\n",
       "      <th>Biomass</th>\n",
       "    </tr>\n",
       "  </thead>\n",
       "  <tbody>\n",
       "    <tr>\n",
       "      <th>0</th>\n",
       "      <td>1200</td>\n",
       "      <td>1700</td>\n",
       "      <td>2900</td>\n",
       "      <td>2500</td>\n",
       "    </tr>\n",
       "    <tr>\n",
       "      <th>1</th>\n",
       "      <td>1500</td>\n",
       "      <td>3600</td>\n",
       "      <td>3100</td>\n",
       "      <td>2700</td>\n",
       "    </tr>\n",
       "    <tr>\n",
       "      <th>2</th>\n",
       "      <td>1300</td>\n",
       "      <td>3200</td>\n",
       "      <td>2600</td>\n",
       "      <td>2400</td>\n",
       "    </tr>\n",
       "  </tbody>\n",
       "</table>\n",
       "</div>"
      ],
      "text/plain": [
       "   solar  wind  hydropower  Biomass\n",
       "0   1200  1700        2900     2500\n",
       "1   1500  3600        3100     2700\n",
       "2   1300  3200        2600     2400"
      ]
     },
     "execution_count": 260,
     "metadata": {},
     "output_type": "execute_result"
    }
   ],
   "source": [
    "import pandas as pd\n",
    "data={\n",
    "    'solar':[1200,1500,1300],\n",
    "    'wind':[1700,3600,3200],\n",
    "    'hydropower':[2900,3100,2600],\n",
    "    'Biomass':[2500,2700,2400]\n",
    "}\n",
    "df=pd.DataFrame(data)\n",
    "df"
   ]
  },
  {
   "cell_type": "code",
   "execution_count": 272,
   "id": "c5296fe0-de09-4824-aa1f-9e0909bc4701",
   "metadata": {},
   "outputs": [
    {
     "name": "stderr",
     "output_type": "stream",
     "text": [
      "C:\\Users\\shali\\anaconda3\\Lib\\site-packages\\seaborn\\_oldcore.py:1119: FutureWarning: use_inf_as_na option is deprecated and will be removed in a future version. Convert inf values to NaN before operating instead.\n",
      "  with pd.option_context('mode.use_inf_as_na', True):\n",
      "C:\\Users\\shali\\anaconda3\\Lib\\site-packages\\seaborn\\_oldcore.py:1119: FutureWarning: use_inf_as_na option is deprecated and will be removed in a future version. Convert inf values to NaN before operating instead.\n",
      "  with pd.option_context('mode.use_inf_as_na', True):\n",
      "C:\\Users\\shali\\anaconda3\\Lib\\site-packages\\seaborn\\_oldcore.py:1119: FutureWarning: use_inf_as_na option is deprecated and will be removed in a future version. Convert inf values to NaN before operating instead.\n",
      "  with pd.option_context('mode.use_inf_as_na', True):\n",
      "C:\\Users\\shali\\anaconda3\\Lib\\site-packages\\seaborn\\_oldcore.py:1119: FutureWarning: use_inf_as_na option is deprecated and will be removed in a future version. Convert inf values to NaN before operating instead.\n",
      "  with pd.option_context('mode.use_inf_as_na', True):\n"
     ]
    },
    {
     "data": {
      "image/png": "[encoded data removed]",
      "text/plain": [
       "<Figure size 1000x1000 with 20 Axes>"
      ]
     },
     "metadata": {},
     "output_type": "display_data"
    }
   ],
   "source": [
    "#pairplot\n",
    "import seaborn as sns\n",
    "sns.pairplot(df)\n",
    "plt.show()"
   ]
  },
  {
   "cell_type": "code",
   "execution_count": 273,
   "id": "59691f62-5cc8-4baf-8c0c-1a54a3864428",
   "metadata": {},
   "outputs": [
    {
     "data": {
      "text/html": [
       "<div>\n",
       "<style scoped>\n",
       "    .dataframe tbody tr th:only-of-type {\n",
       "        vertical-align: middle;\n",
       "    }\n",
       "\n",
       "    .dataframe tbody tr th {\n",
       "        vertical-align: top;\n",
       "    }\n",
       "\n",
       "    .dataframe thead th {\n",
       "        text-align: right;\n",
       "    }\n",
       "</style>\n",
       "<table border=\"1\" class=\"dataframe\">\n",
       "  <thead>\n",
       "    <tr style=\"text-align: right;\">\n",
       "      <th></th>\n",
       "      <th>solar</th>\n",
       "      <th>wind</th>\n",
       "      <th>hydropower</th>\n",
       "      <th>Biomass</th>\n",
       "    </tr>\n",
       "  </thead>\n",
       "  <tbody>\n",
       "    <tr>\n",
       "      <th>solar</th>\n",
       "      <td>1.000000</td>\n",
       "      <td>0.871420</td>\n",
       "      <td>0.563621</td>\n",
       "      <td>0.785714</td>\n",
       "    </tr>\n",
       "    <tr>\n",
       "      <th>wind</th>\n",
       "      <td>0.871420</td>\n",
       "      <td>1.000000</td>\n",
       "      <td>0.085951</td>\n",
       "      <td>0.381246</td>\n",
       "    </tr>\n",
       "    <tr>\n",
       "      <th>hydropower</th>\n",
       "      <td>0.563621</td>\n",
       "      <td>0.085951</td>\n",
       "      <td>1.000000</td>\n",
       "      <td>0.953821</td>\n",
       "    </tr>\n",
       "    <tr>\n",
       "      <th>Biomass</th>\n",
       "      <td>0.785714</td>\n",
       "      <td>0.381246</td>\n",
       "      <td>0.953821</td>\n",
       "      <td>1.000000</td>\n",
       "    </tr>\n",
       "  </tbody>\n",
       "</table>\n",
       "</div>"
      ],
      "text/plain": [
       "               solar      wind  hydropower   Biomass\n",
       "solar       1.000000  0.871420    0.563621  0.785714\n",
       "wind        0.871420  1.000000    0.085951  0.381246\n",
       "hydropower  0.563621  0.085951    1.000000  0.953821\n",
       "Biomass     0.785714  0.381246    0.953821  1.000000"
      ]
     },
     "execution_count": 273,
     "metadata": {},
     "output_type": "execute_result"
    }
   ],
   "source": [
    "corr_matrix=df.corr()\n",
    "corr_matrix"
   ]
  },
  {
   "cell_type": "code",
   "execution_count": 275,
   "id": "1204bc33-0e1c-4396-9df8-556895bbbda6",
   "metadata": {},
   "outputs": [
    {
     "data": {
      "image/png": "[encoded data removed]",
      "text/plain": [
       "<Figure size 640x480 with 2 Axes>"
      ]
     },
     "metadata": {},
     "output_type": "display_data"
    }
   ],
   "source": [
    "sns.heatmap(corr_matrix,annot=True,cmap='coolwarm',linewidth=0.5)\n",
    "plt.title(\"Corelation matrix for Energy resources\")\n",
    "plt.show()"
   ]
  },
  {
   "cell_type": "code",
   "execution_count": 271,
   "id": "150ce6ce-23f4-47af-908e-2579a90ba42a",
   "metadata": {},
   "outputs": [
    {
     "data": {
      "image/png": "[encoded data removed]",
      "text/plain": [
       "<Figure size 640x480 with 1 Axes>"
      ]
     },
     "metadata": {},
     "output_type": "display_data"
    }
   ],
   "source": [
    "#BOX PLOT\n",
    "\n",
    "sns.boxplot(data=df)\n",
    "plt.show()"
   ]
  },
  {
   "cell_type": "code",
   "execution_count": 276,
   "id": "3ec2575c-6938-422e-8724-b86714de5a48",
   "metadata": {},
   "outputs": [
    {
     "data": {
      "image/png": "[encoded data removed]",
      "text/plain": [
       "<Figure size 640x480 with 1 Axes>"
      ]
     },
     "metadata": {},
     "output_type": "display_data"
    }
   ],
   "source": [
    "sns.violinplot(data=df)\n",
    "plt.title(' voltin plot of energy resousourses')\n",
    "plt.show()"
   ]
  },
  {
   "cell_type": "code",
   "execution_count": 277,
   "id": "f2e36f5d-e351-428d-bb6e-fe6321811734",
   "metadata": {},
   "outputs": [
    {
     "data": {
      "image/png": "[encoded data removed]",
      "text/plain": [
       "<Figure size 640x480 with 1 Axes>"
      ]
     },
     "metadata": {},
     "output_type": "display_data"
    }
   ],
   "source": [
    "energy_values = [100,200,300,400,500]\n",
    "carbon_emission = [10,20,30,40,50]\n",
    "df_reg = pd.DataFrame({'energy values':energy_values,'carbon emission':carbon_emission})\n",
    "sns.regplot(x='energy values',y='carbon emission',data=df_reg)\n",
    "plt.title('Regression plot for energy values vs carbon emission')\n",
    "plt.show()"
   ]
  },
  {
   "cell_type": "code",
   "execution_count": null,
   "id": "e092566f-76d0-46cf-b2ba-84d9f2f9afcb",
   "metadata": {},
   "outputs": [],
   "source": []
  }
 ],
 "metadata": {
  "kernelspec": {
   "display_name": "Python 3 (ipykernel)",
   "language": "python",
   "name": "python3"
  },
  "language_info": {
   "codemirror_mode": {
    "name": "ipython",
    "version": 3
   },
   "file_extension": ".py",
   "mimetype": "text/x-python",
   "name": "python",
   "nbconvert_exporter": "python",
   "pygments_lexer": "ipython3",
   "version": "3.11.7"
  },
  "widgets": {
   "application/vnd.jupyter.widget-state+json": {
    "state": {},
    "version_major": 2,
    "version_minor": 0
   }
  }
 },
 "nbformat": 4,
 "nbformat_minor": 5
}
